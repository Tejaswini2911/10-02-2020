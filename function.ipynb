{
 "cells": [
  {
   "cell_type": "markdown",
   "metadata": {},
   "source": []
  },
  {
   "cell_type": "code",
   "execution_count": 1,
   "metadata": {},
   "outputs": [],
   "source": [
    "def square(a,b):\n",
    "    s=(a**2+b**2+a*b*2)\n",
    "    return s"
   ]
  },
  {
   "cell_type": "code",
   "execution_count": 2,
   "metadata": {},
   "outputs": [
    {
     "data": {
      "text/plain": [
       "625"
      ]
     },
     "execution_count": 2,
     "metadata": {},
     "output_type": "execute_result"
    }
   ],
   "source": [
    "square(12,13)"
   ]
  },
  {
   "cell_type": "code",
   "execution_count": 3,
   "metadata": {},
   "outputs": [],
   "source": [
    "def sumfact(n):\n",
    "    i=1\n",
    "    summ=0\n",
    "    for i in range(1,n+1):\n",
    "        if(n%i==0):\n",
    "            summ=summ+i\n",
    "    print(summ)"
   ]
  },
  {
   "cell_type": "code",
   "execution_count": 4,
   "metadata": {},
   "outputs": [
    {
     "name": "stdout",
     "output_type": "stream",
     "text": [
      "60\n"
     ]
    }
   ],
   "source": [
    "sumfact(24)"
   ]
  },
  {
   "cell_type": "code",
   "execution_count": 5,
   "metadata": {},
   "outputs": [],
   "source": [
    "def deaf():\n",
    "    a=10\n",
    "    b=20\n",
    "    return(a+b)"
   ]
  },
  {
   "cell_type": "code",
   "execution_count": 6,
   "metadata": {},
   "outputs": [
    {
     "data": {
      "text/plain": [
       "30"
      ]
     },
     "execution_count": 6,
     "metadata": {},
     "output_type": "execute_result"
    }
   ],
   "source": [
    "deaf()"
   ]
  },
  {
   "cell_type": "code",
   "execution_count": null,
   "metadata": {},
   "outputs": [],
   "source": [
    "def palindrome(s):\n",
    "    s1=s[::-1]\n",
    "    if(s==s1):\n",
    "        "
   ]
  },
  {
   "cell_type": "code",
   "execution_count": 2,
   "metadata": {},
   "outputs": [],
   "source": [
    "def prime(n):\n",
    "    fcount=0\n",
    "    if(n==1):\n",
    "        return False\n",
    "    if(n==2):\n",
    "        return True\n",
    "    else:\n",
    "        for i in range(2,int(n/2)+1):\n",
    "            if(n%i==0):\n",
    "                fcount=fcount+1\n",
    "    if(fcount==0):\n",
    "        return True\n",
    "    return False"
   ]
  },
  {
   "cell_type": "code",
   "execution_count": 4,
   "metadata": {},
   "outputs": [
    {
     "data": {
      "text/plain": [
       "True"
      ]
     },
     "execution_count": 4,
     "metadata": {},
     "output_type": "execute_result"
    }
   ],
   "source": [
    "prime(23)"
   ]
  },
  {
   "cell_type": "code",
   "execution_count": 14,
   "metadata": {},
   "outputs": [
    {
     "data": {
      "text/plain": [
       "False"
      ]
     },
     "execution_count": 14,
     "metadata": {},
     "output_type": "execute_result"
    }
   ],
   "source": [
    "prime(25)"
   ]
  },
  {
   "cell_type": "code",
   "execution_count": 13,
   "metadata": {},
   "outputs": [
    {
     "name": "stdout",
     "output_type": "stream",
     "text": [
      "Enter a value12\n",
      "5\n"
     ]
    }
   ],
   "source": [
    "n=int(input(\"Enter a value\"))\n",
    "prsum=0\n",
    "for i in range(1,n+1):\n",
    "    if(n%i==0):\n",
    "        if(prime(i)):\n",
    "            prsum=prsum+i\n",
    "print(prsum)\n",
    "        "
   ]
  },
  {
   "cell_type": "code",
   "execution_count": 1,
   "metadata": {},
   "outputs": [
    {
     "name": "stdout",
     "output_type": "stream",
     "text": [
      "Enter a number12\n",
      "2\n",
      "4\n",
      "6\n",
      "12\n"
     ]
    }
   ],
   "source": [
    "#Even Factors\n",
    "n=int(input(\"Enter a number\"))\n",
    "for i in range(1,n+1):\n",
    "    if(n%i==0):\n",
    "        if(i%2==0):\n",
    "            print(i)"
   ]
  },
  {
   "cell_type": "code",
   "execution_count": 10,
   "metadata": {},
   "outputs": [
    {
     "name": "stdout",
     "output_type": "stream",
     "text": [
      "123\n",
      "2\n"
     ]
    }
   ],
   "source": [
    "# Prime Factors Count\n",
    "n=int(input())\n",
    "pcount=0\n",
    "for i in range(1,n+1):\n",
    "    if(n%i==0):\n",
    "        if(prime(i)):\n",
    "            pcount=pcount+1\n",
    "print(pcount)            "
   ]
  },
  {
   "cell_type": "code",
   "execution_count": 11,
   "metadata": {},
   "outputs": [
    {
     "name": "stdout",
     "output_type": "stream",
     "text": [
      "enter start2000\n",
      "enter end2020\n",
      "2000\n",
      "2004\n",
      "2008\n",
      "2012\n",
      "2016\n",
      "2020\n"
     ]
    }
   ],
   "source": [
    "#Leap Yeras in a given range\n",
    "a=int(input(\"enter start\"))\n",
    "b=int(input(\"enter end\"))\n",
    "c=0\n",
    "for i in range(a,b+1):\n",
    "    if((i%400==0)or(i%4==0 and i%100!=0)):\n",
    "        c=c+1\n",
    "        print(i)\n"
   ]
  },
  {
   "cell_type": "code",
   "execution_count": 13,
   "metadata": {},
   "outputs": [
    {
     "name": "stdout",
     "output_type": "stream",
     "text": [
      "enter start2000\n",
      "enter end2020\n",
      "6\n"
     ]
    }
   ],
   "source": [
    "#Leap Years count in a given range\n",
    "a=int(input(\"enter start\"))\n",
    "b=int(input(\"enter end\"))\n",
    "c=0\n",
    "for i in range(a,b+1):\n",
    "    if((i%400==0)or(i%4==0 and i%100!=0)):\n",
    "        c=c+1\n",
    "print(c)"
   ]
  },
  {
   "cell_type": "code",
   "execution_count": 17,
   "metadata": {},
   "outputs": [
    {
     "name": "stdout",
     "output_type": "stream",
     "text": [
      "start 10\n",
      "end 20\n",
      "11\n",
      "13\n",
      "17\n",
      "19\n"
     ]
    }
   ],
   "source": [
    "#Prime Numbers in a given range \n",
    "a=int(input(\"start \"))\n",
    "b=int(input(\"end \"))\n",
    "for i in range(a,b+1):\n",
    "    if(prime(i)):\n",
    "        print(i)\n",
    "    "
   ]
  },
  {
   "cell_type": "code",
   "execution_count": 30,
   "metadata": {},
   "outputs": [],
   "source": [
    "def amstrong(n):\n",
    "    sn=str(n)\n",
    "    ln=len(sn)\n",
    "    am=0\n",
    "    for i in sn:\n",
    "        am=am+(int(i)**ln)\n",
    "    if(am==n):\n",
    "        return True\n",
    "    return False"
   ]
  },
  {
   "cell_type": "code",
   "execution_count": 31,
   "metadata": {},
   "outputs": [
    {
     "data": {
      "text/plain": [
       "True"
      ]
     },
     "execution_count": 31,
     "metadata": {},
     "output_type": "execute_result"
    }
   ],
   "source": [
    "amstrong(370)\n"
   ]
  },
  {
   "cell_type": "code",
   "execution_count": 32,
   "metadata": {},
   "outputs": [
    {
     "name": "stdout",
     "output_type": "stream",
     "text": [
      "Start 1\n",
      "End 2000\n",
      "1\n",
      "2\n",
      "3\n",
      "4\n",
      "5\n",
      "6\n",
      "7\n",
      "8\n",
      "9\n",
      "153\n",
      "370\n",
      "371\n",
      "407\n",
      "1634\n"
     ]
    }
   ],
   "source": [
    "a=int(input(\"Start \"))\n",
    "b=int(input(\"End \"))\n",
    "for i in range(a,b+1):\n",
    "    if(amstrong(i)):\n",
    "        print(i)"
   ]
  },
  {
   "cell_type": "code",
   "execution_count": null,
   "metadata": {},
   "outputs": [],
   "source": [
    "#Total Surafce area of a pyramid\n",
    "#Square\n",
    "#Rectangle\n",
    "#Triangle\n",
    "#area of a sqaure+4*(area of a Triangle)\n",
    "#area of rectangle(l,b)+4*(area of triangle(h,len of ))\n",
    "#area of triangle *4"
   ]
  },
  {
   "cell_type": "code",
   "execution_count": 41,
   "metadata": {},
   "outputs": [
    {
     "name": "stdout",
     "output_type": "stream",
     "text": [
      "Enter type of pyramid  1- Square pyramid 2-Rectangular pyramid  3- triangular pyramid1\n",
      "enter length of the side of square25\n",
      "Enter height of the pyramid20\n",
      "total surface area:  1625.0\n"
     ]
    }
   ],
   "source": [
    "n=int(input(\"Enter type of pyramid  1- Square pyramid 2-Rectangular pyramid  3- triangular pyramid\"))\n",
    "if(n==1):\n",
    "    square()\n",
    "if(n==2):\n",
    "    rectangular()\n",
    "if(n==3):\n",
    "    triangular()\n",
    "    \n",
    "                      "
   ]
  },
  {
   "cell_type": "code",
   "execution_count": 37,
   "metadata": {},
   "outputs": [],
   "source": [
    "def square():\n",
    "    side=int(input(\"enter length of the side of square\"))\n",
    "    height=int(input(\"Enter height of the pyramid\"))\n",
    "    print(\"total surface area: \", (side**2+4*(0.5*height*side)))\n",
    "    "
   ]
  },
  {
   "cell_type": "code",
   "execution_count": 36,
   "metadata": {},
   "outputs": [],
   "source": [
    "def rectangular():\n",
    "    length=int(input(\"enter length of the rectangle\"))\n",
    "    breadth=int(input(\"enter breadth of the rectangle\"))\n",
    "    height=int(input(\"Enter height of the pyramid\"))\n",
    "    side=int(input(\"enter side of the triangle\"))\n",
    "    print(\"Total surface area : \", (length*breadth)+4*(0.5*height*side))\n",
    "    \n",
    "    "
   ]
  },
  {
   "cell_type": "code",
   "execution_count": 38,
   "metadata": {},
   "outputs": [],
   "source": [
    "def triangular():\n",
    "    side=int(input(\"Enter side of the trainagle\"))\n",
    "    height=int(input(\"Enter height of the pyramid\"))\n",
    "    print(\"total suface area : \", (0.5*height*side)*4)"
   ]
  },
  {
   "cell_type": "code",
   "execution_count": 11,
   "metadata": {},
   "outputs": [],
   "source": [
    "# function to print avg of cubes of even numbers in a range\n",
    "\n",
    "def avg(b,c):\n",
    "    csum=0\n",
    "    for i in range(b,c): \n",
    "        if(i%2==0):\n",
    "            cube=i**3\n",
    "            csum=csum+cube\n",
    "            cubes=str(cube)\n",
    "            sd=len(cubes)\n",
    "    average=csum/sd\n",
    "    print(average)\n",
    "            \n",
    "            "
   ]
  },
  {
   "cell_type": "code",
   "execution_count": 12,
   "metadata": {},
   "outputs": [
    {
     "name": "stdout",
     "output_type": "stream",
     "text": [
      "Start1\n",
      "End5\n",
      "36.0\n"
     ]
    }
   ],
   "source": [
    "b=int(input(\"Start\"))\n",
    "c=int(input(\"End\"))\n",
    "avg(1,5)"
   ]
  },
  {
   "cell_type": "code",
   "execution_count": null,
   "metadata": {},
   "outputs": [],
   "source": []
  }
 ],
 "metadata": {
  "kernelspec": {
   "display_name": "Python 3",
   "language": "python",
   "name": "python3"
  },
  "language_info": {
   "codemirror_mode": {
    "name": "ipython",
    "version": 3
   },
   "file_extension": ".py",
   "mimetype": "text/x-python",
   "name": "python",
   "nbconvert_exporter": "python",
   "pygments_lexer": "ipython3",
   "version": "3.7.3"
  }
 },
 "nbformat": 4,
 "nbformat_minor": 2
}
